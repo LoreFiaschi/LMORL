{
 "cells": [
  {
   "attachments": {},
   "cell_type": "markdown",
   "metadata": {},
   "source": [
    "## Understanding the method Base.real() applied on different variable types"
   ]
  },
  {
   "attachments": {},
   "cell_type": "markdown",
   "metadata": {},
   "source": [
    "### Testing real method on float"
   ]
  },
  {
   "cell_type": "code",
   "execution_count": 10,
   "metadata": {},
   "outputs": [
    {
     "name": "stdout",
     "output_type": "stream",
     "text": [
      "2.2\n",
      "Float64\n"
     ]
    }
   ],
   "source": [
    "f = 2.2\n",
    "\n",
    "println(f)\n",
    "println(typeof(f))"
   ]
  },
  {
   "cell_type": "code",
   "execution_count": 11,
   "metadata": {},
   "outputs": [
    {
     "name": "stdout",
     "output_type": "stream",
     "text": [
      "2.2\n",
      "Float64\n"
     ]
    }
   ],
   "source": [
    "fr = real(f)\n",
    "println(fr)\n",
    "println(typeof(fr))"
   ]
  },
  {
   "attachments": {},
   "cell_type": "markdown",
   "metadata": {},
   "source": [
    "### Testing real() method on array of floats"
   ]
  },
  {
   "cell_type": "code",
   "execution_count": 11,
   "metadata": {},
   "outputs": [
    {
     "name": "stdout",
     "output_type": "stream",
     "text": [
      "[1.5, 2.4, 3.2, 4.1, 5.0]\n",
      "Vector{Float64}\n",
      "[1.5, 2.4, 3.2, 4.1, 5.0]\n",
      "Vector{Float64}\n",
      "[1.5, 2.4, 3.2, 4.1, 5.0]\n",
      "Vector{Float64}\n"
     ]
    }
   ],
   "source": [
    "af = [1.5,2.4,3.2,4.1,5.0]\n",
    "\n",
    "afr = real(af)\n",
    "\n",
    "afr_dot = real.(af)\n",
    "\n",
    "println(af)\n",
    "println(typeof(af))\n",
    "println(afr)\n",
    "println(typeof(afr))\n",
    "println(afr_dot)\n",
    "println(typeof(afr_dot))"
   ]
  },
  {
   "attachments": {},
   "cell_type": "markdown",
   "metadata": {},
   "source": [
    "### Testing real() method on a number with imaginary part"
   ]
  },
  {
   "cell_type": "code",
   "execution_count": 12,
   "metadata": {},
   "outputs": [
    {
     "name": "stdout",
     "output_type": "stream",
     "text": [
      "3.2 + 4.8im\n",
      "ComplexF64\n"
     ]
    }
   ],
   "source": [
    "ia = 3.2 + 4.8im\n",
    "\n",
    "println(ia)\n",
    "println(typeof(ia))"
   ]
  },
  {
   "cell_type": "code",
   "execution_count": 13,
   "metadata": {},
   "outputs": [
    {
     "name": "stdout",
     "output_type": "stream",
     "text": [
      "3.2\n",
      "Float64\n"
     ]
    }
   ],
   "source": [
    "iar = real(ia)\n",
    "println(iar)\n",
    "println(typeof(iar))"
   ]
  },
  {
   "attachments": {},
   "cell_type": "markdown",
   "metadata": {},
   "source": [
    "### Testing real() method on array of complex floats"
   ]
  },
  {
   "cell_type": "code",
   "execution_count": 14,
   "metadata": {},
   "outputs": [
    {
     "name": "stdout",
     "output_type": "stream",
     "text": [
      "ComplexF64[2.1 + 3.2im, 3.1 + 4.2im, 4.1 + 5.2im, 4.0 + 7.0im]\n",
      "Vector{ComplexF64}\n",
      "[2.1, 3.1, 4.1, 4.0]\n",
      "Vector{Float64}\n"
     ]
    }
   ],
   "source": [
    "iv = [2.1+3.2im, 3.1+4.2im, 4.1+5.2im, 4+7im]\n",
    "\n",
    "ivr = real(iv)\n",
    "\n",
    "println(iv)\n",
    "println(typeof(iv))\n",
    "println(ivr)\n",
    "println(typeof(ivr))"
   ]
  },
  {
   "attachments": {},
   "cell_type": "markdown",
   "metadata": {},
   "source": [
    "# Testing real() method on BAN"
   ]
  },
  {
   "cell_type": "code",
   "execution_count": null,
   "metadata": {},
   "outputs": [],
   "source": [
    "BAN_SIZE = 3\n",
    "(@isdefined BAN) ? println(\"BAN module already included!\") : include(\"../../LMORL/BAN/BAN.jl\")\n",
    "using .BAN"
   ]
  },
  {
   "attachments": {},
   "cell_type": "markdown",
   "metadata": {},
   "source": [
    "### Ban with real components"
   ]
  },
  {
   "cell_type": "code",
   "execution_count": 5,
   "metadata": {},
   "outputs": [
    {
     "name": "stdout",
     "output_type": "stream",
     "text": [
      "α^0(1.0 + 2.0η^1 + 3.0η^2)\n",
      "Ban\n"
     ]
    }
   ],
   "source": [
    "b = Ban(0, [1.0,2.0,3.0])\n",
    "println(b)\n",
    "println(typeof(b))"
   ]
  },
  {
   "cell_type": "code",
   "execution_count": 6,
   "metadata": {},
   "outputs": [
    {
     "name": "stdout",
     "output_type": "stream",
     "text": [
      "α^0(1.0 + 2.0η^1 + 3.0η^2)\n",
      "Ban\n"
     ]
    }
   ],
   "source": [
    "br = real(b)\n",
    "println(br)\n",
    "println(typeof(br))"
   ]
  },
  {
   "attachments": {},
   "cell_type": "markdown",
   "metadata": {},
   "source": [
    "### BAN with complex components"
   ]
  },
  {
   "cell_type": "code",
   "execution_count": 7,
   "metadata": {},
   "outputs": [
    {
     "ename": "MethodError",
     "evalue": "MethodError: no method matching Ban(::Int64, ::Vector{ComplexF64})\n\nClosest candidates are:\n  Ban(::Int64, !Matched::Vector{T}) where T<:Real\n   @ Main.BAN c:\\programmazione\\LMORL\\LMORL\\BAN\\BAN.jl:39\n  Ban(::Int64, !Matched::Vector{T}, !Matched::Bool) where T<:Real\n   @ Main.BAN c:\\programmazione\\LMORL\\LMORL\\BAN\\BAN.jl:38\n  Ban(::T) where T<:Real\n   @ Main.BAN c:\\programmazione\\LMORL\\LMORL\\BAN\\BAN.jl:42\n  ...\n",
     "output_type": "error",
     "traceback": [
      "MethodError: no method matching Ban(::Int64, ::Vector{ComplexF64})\n",
      "\n",
      "Closest candidates are:\n",
      "  Ban(::Int64, !Matched::Vector{T}) where T<:Real\n",
      "   @ Main.BAN c:\\programmazione\\LMORL\\LMORL\\BAN\\BAN.jl:39\n",
      "  Ban(::Int64, !Matched::Vector{T}, !Matched::Bool) where T<:Real\n",
      "   @ Main.BAN c:\\programmazione\\LMORL\\LMORL\\BAN\\BAN.jl:38\n",
      "  Ban(::T) where T<:Real\n",
      "   @ Main.BAN c:\\programmazione\\LMORL\\LMORL\\BAN\\BAN.jl:42\n",
      "  ...\n",
      "\n",
      "\n",
      "Stacktrace:\n",
      " [1] top-level scope\n",
      "   @ c:\\programmazione\\LMORL\\tests\\julia-test-3_method-real-on-Bans\\1_method_real_on_Ban.ipynb:1"
     ]
    }
   ],
   "source": [
    "bc = Ban(0, [1.1+2.0im, 2.1+4.1im, 10+4im])\n",
    "println(bc)\n",
    "println(typeof(bc))"
   ]
  },
  {
   "attachments": {},
   "cell_type": "markdown",
   "metadata": {},
   "source": [
    "we note that Bans with complex components are not allowed."
   ]
  }
 ],
 "metadata": {
  "kernelspec": {
   "display_name": "Julia 1.9.0",
   "language": "julia",
   "name": "julia-1.9"
  },
  "language_info": {
   "file_extension": ".jl",
   "mimetype": "application/julia",
   "name": "julia",
   "version": "1.9.0"
  },
  "orig_nbformat": 4
 },
 "nbformat": 4,
 "nbformat_minor": 2
}
